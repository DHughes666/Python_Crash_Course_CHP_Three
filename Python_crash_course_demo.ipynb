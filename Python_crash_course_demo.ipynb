{
 "cells": [
  {
   "cell_type": "markdown",
   "id": "3316def4",
   "metadata": {},
   "source": [
    "### Exercises"
   ]
  },
  {
   "cell_type": "markdown",
   "id": "15c32492",
   "metadata": {},
   "source": [
    "##### TRY IT YOURSELF - 3-4. Guest List"
   ]
  },
  {
   "cell_type": "markdown",
   "id": "2b0d2ac3",
   "metadata": {},
   "source": [
    "If you could invite anyone, living or deceased, to dinner, who\n",
    "would you invite? Make a list that includes at least three people you’d like to\n",
    "invite to dinner Then use your list to print a message to each person, inviting\n",
    "them to dinner"
   ]
  },
  {
   "cell_type": "code",
   "execution_count": 3,
   "id": "21ee686f",
   "metadata": {},
   "outputs": [],
   "source": [
    "guest = ['Bala', 'Precious', 'Hawthorne', 'Grodin']"
   ]
  },
  {
   "cell_type": "code",
   "execution_count": 4,
   "id": "ab07c8c2",
   "metadata": {},
   "outputs": [
    {
     "data": {
      "text/plain": [
       "['Bala', 'Precious', 'Hawthorne', 'Grodin']"
      ]
     },
     "execution_count": 4,
     "metadata": {},
     "output_type": "execute_result"
    }
   ],
   "source": [
    "guest"
   ]
  },
  {
   "cell_type": "code",
   "execution_count": 5,
   "id": "cb7ce68b",
   "metadata": {},
   "outputs": [
    {
     "name": "stdout",
     "output_type": "stream",
     "text": [
      "Bala you are invited to dinner\n",
      "Precious you are invited to dinner\n",
      "Hawthorne you are invited to dinner\n",
      "Grodin you are invited to dinner\n"
     ]
    }
   ],
   "source": [
    "for person in guest:\n",
    "    print(person, 'you are invited to dinner')"
   ]
  },
  {
   "cell_type": "code",
   "execution_count": null,
   "id": "9bf0ea0b",
   "metadata": {},
   "outputs": [],
   "source": []
  }
 ],
 "metadata": {
  "kernelspec": {
   "display_name": "Python 3 (ipykernel)",
   "language": "python",
   "name": "python3"
  },
  "language_info": {
   "codemirror_mode": {
    "name": "ipython",
    "version": 3
   },
   "file_extension": ".py",
   "mimetype": "text/x-python",
   "name": "python",
   "nbconvert_exporter": "python",
   "pygments_lexer": "ipython3",
   "version": "3.11.1"
  }
 },
 "nbformat": 4,
 "nbformat_minor": 5
}
